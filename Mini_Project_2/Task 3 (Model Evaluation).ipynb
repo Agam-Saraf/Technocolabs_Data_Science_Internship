{
 "cells": [
  {
   "cell_type": "code",
   "execution_count": 1,
   "metadata": {},
   "outputs": [
    {
     "data": {
      "application/javascript": [
       "IPython.notebook.set_autosave_interval(10000)"
      ]
     },
     "metadata": {},
     "output_type": "display_data"
    },
    {
     "name": "stdout",
     "output_type": "stream",
     "text": [
      "Autosaving every 10 seconds\n"
     ]
    }
   ],
   "source": [
    "import numpy as np\n",
    "import pandas as pd\n",
    "import matplotlib.pyplot as plt\n",
    "import seaborn as sns\n",
    "import matplotlib as mpl\n",
    "from sklearn.linear_model import LogisticRegression\n",
    "np.random.seed(seed=1)\n",
    "mpl.rcParams[\"figure.dpi\"]=400\n",
    "mpl.rcParams[\"font.size\"]=4\n",
    "fig=plt.gcf()\n",
    "fig.set_size_inches(20,20)\n",
    "pd.set_option(\"display.max_columns\",None)\n",
    "pd.set_option(\"display.max_rows\",None)\n",
    "%matplotlib inline\n",
    "%autosave 10"
   ]
  },
  {
   "cell_type": "code",
   "execution_count": 2,
   "metadata": {},
   "outputs": [
    {
     "data": {
      "text/html": [
       "<div>\n",
       "<style scoped>\n",
       "    .dataframe tbody tr th:only-of-type {\n",
       "        vertical-align: middle;\n",
       "    }\n",
       "\n",
       "    .dataframe tbody tr th {\n",
       "        vertical-align: top;\n",
       "    }\n",
       "\n",
       "    .dataframe thead th {\n",
       "        text-align: right;\n",
       "    }\n",
       "</style>\n",
       "<table border=\"1\" class=\"dataframe\">\n",
       "  <thead>\n",
       "    <tr style=\"text-align: right;\">\n",
       "      <th></th>\n",
       "      <th>ID</th>\n",
       "      <th>LIMIT_BAL</th>\n",
       "      <th>SEX</th>\n",
       "      <th>EDUCATION</th>\n",
       "      <th>MARRIAGE</th>\n",
       "      <th>AGE</th>\n",
       "      <th>PAY_1</th>\n",
       "      <th>PAY_2</th>\n",
       "      <th>PAY_3</th>\n",
       "      <th>PAY_4</th>\n",
       "      <th>PAY_5</th>\n",
       "      <th>PAY_6</th>\n",
       "      <th>BILL_AMT1</th>\n",
       "      <th>BILL_AMT2</th>\n",
       "      <th>BILL_AMT3</th>\n",
       "      <th>BILL_AMT4</th>\n",
       "      <th>BILL_AMT5</th>\n",
       "      <th>BILL_AMT6</th>\n",
       "      <th>PAY_AMT1</th>\n",
       "      <th>PAY_AMT2</th>\n",
       "      <th>PAY_AMT3</th>\n",
       "      <th>PAY_AMT4</th>\n",
       "      <th>PAY_AMT5</th>\n",
       "      <th>PAY_AMT6</th>\n",
       "      <th>default payment next month</th>\n",
       "      <th>EDUCATION_CAT</th>\n",
       "      <th>graduate school</th>\n",
       "      <th>high school</th>\n",
       "      <th>others</th>\n",
       "      <th>university</th>\n",
       "    </tr>\n",
       "  </thead>\n",
       "  <tbody>\n",
       "    <tr>\n",
       "      <td>0</td>\n",
       "      <td>798fc410-45c1</td>\n",
       "      <td>20000</td>\n",
       "      <td>2</td>\n",
       "      <td>2</td>\n",
       "      <td>1</td>\n",
       "      <td>24</td>\n",
       "      <td>2</td>\n",
       "      <td>2</td>\n",
       "      <td>-1</td>\n",
       "      <td>-1</td>\n",
       "      <td>-2</td>\n",
       "      <td>-2</td>\n",
       "      <td>3913</td>\n",
       "      <td>3102</td>\n",
       "      <td>689</td>\n",
       "      <td>0</td>\n",
       "      <td>0</td>\n",
       "      <td>0</td>\n",
       "      <td>0</td>\n",
       "      <td>689</td>\n",
       "      <td>0</td>\n",
       "      <td>0</td>\n",
       "      <td>0</td>\n",
       "      <td>0</td>\n",
       "      <td>1</td>\n",
       "      <td>university</td>\n",
       "      <td>0</td>\n",
       "      <td>0</td>\n",
       "      <td>0</td>\n",
       "      <td>1</td>\n",
       "    </tr>\n",
       "    <tr>\n",
       "      <td>1</td>\n",
       "      <td>8a8c8f3b-8eb4</td>\n",
       "      <td>120000</td>\n",
       "      <td>2</td>\n",
       "      <td>2</td>\n",
       "      <td>2</td>\n",
       "      <td>26</td>\n",
       "      <td>-1</td>\n",
       "      <td>2</td>\n",
       "      <td>0</td>\n",
       "      <td>0</td>\n",
       "      <td>0</td>\n",
       "      <td>2</td>\n",
       "      <td>2682</td>\n",
       "      <td>1725</td>\n",
       "      <td>2682</td>\n",
       "      <td>3272</td>\n",
       "      <td>3455</td>\n",
       "      <td>3261</td>\n",
       "      <td>0</td>\n",
       "      <td>1000</td>\n",
       "      <td>1000</td>\n",
       "      <td>1000</td>\n",
       "      <td>0</td>\n",
       "      <td>2000</td>\n",
       "      <td>1</td>\n",
       "      <td>university</td>\n",
       "      <td>0</td>\n",
       "      <td>0</td>\n",
       "      <td>0</td>\n",
       "      <td>1</td>\n",
       "    </tr>\n",
       "    <tr>\n",
       "      <td>2</td>\n",
       "      <td>85698822-43f5</td>\n",
       "      <td>90000</td>\n",
       "      <td>2</td>\n",
       "      <td>2</td>\n",
       "      <td>2</td>\n",
       "      <td>34</td>\n",
       "      <td>0</td>\n",
       "      <td>0</td>\n",
       "      <td>0</td>\n",
       "      <td>0</td>\n",
       "      <td>0</td>\n",
       "      <td>0</td>\n",
       "      <td>29239</td>\n",
       "      <td>14027</td>\n",
       "      <td>13559</td>\n",
       "      <td>14331</td>\n",
       "      <td>14948</td>\n",
       "      <td>15549</td>\n",
       "      <td>1518</td>\n",
       "      <td>1500</td>\n",
       "      <td>1000</td>\n",
       "      <td>1000</td>\n",
       "      <td>1000</td>\n",
       "      <td>5000</td>\n",
       "      <td>0</td>\n",
       "      <td>university</td>\n",
       "      <td>0</td>\n",
       "      <td>0</td>\n",
       "      <td>0</td>\n",
       "      <td>1</td>\n",
       "    </tr>\n",
       "    <tr>\n",
       "      <td>3</td>\n",
       "      <td>0737c11b-be42</td>\n",
       "      <td>50000</td>\n",
       "      <td>2</td>\n",
       "      <td>2</td>\n",
       "      <td>1</td>\n",
       "      <td>37</td>\n",
       "      <td>0</td>\n",
       "      <td>0</td>\n",
       "      <td>0</td>\n",
       "      <td>0</td>\n",
       "      <td>0</td>\n",
       "      <td>0</td>\n",
       "      <td>46990</td>\n",
       "      <td>48233</td>\n",
       "      <td>49291</td>\n",
       "      <td>28314</td>\n",
       "      <td>28959</td>\n",
       "      <td>29547</td>\n",
       "      <td>2000</td>\n",
       "      <td>2019</td>\n",
       "      <td>1200</td>\n",
       "      <td>1100</td>\n",
       "      <td>1069</td>\n",
       "      <td>1000</td>\n",
       "      <td>0</td>\n",
       "      <td>university</td>\n",
       "      <td>0</td>\n",
       "      <td>0</td>\n",
       "      <td>0</td>\n",
       "      <td>1</td>\n",
       "    </tr>\n",
       "    <tr>\n",
       "      <td>4</td>\n",
       "      <td>3b7f77cc-dbc0</td>\n",
       "      <td>50000</td>\n",
       "      <td>1</td>\n",
       "      <td>2</td>\n",
       "      <td>1</td>\n",
       "      <td>57</td>\n",
       "      <td>-1</td>\n",
       "      <td>0</td>\n",
       "      <td>-1</td>\n",
       "      <td>0</td>\n",
       "      <td>0</td>\n",
       "      <td>0</td>\n",
       "      <td>8617</td>\n",
       "      <td>5670</td>\n",
       "      <td>35835</td>\n",
       "      <td>20940</td>\n",
       "      <td>19146</td>\n",
       "      <td>19131</td>\n",
       "      <td>2000</td>\n",
       "      <td>36681</td>\n",
       "      <td>10000</td>\n",
       "      <td>9000</td>\n",
       "      <td>689</td>\n",
       "      <td>679</td>\n",
       "      <td>0</td>\n",
       "      <td>university</td>\n",
       "      <td>0</td>\n",
       "      <td>0</td>\n",
       "      <td>0</td>\n",
       "      <td>1</td>\n",
       "    </tr>\n",
       "  </tbody>\n",
       "</table>\n",
       "</div>"
      ],
      "text/plain": [
       "              ID  LIMIT_BAL  SEX  EDUCATION  MARRIAGE  AGE  PAY_1  PAY_2  \\\n",
       "0  798fc410-45c1      20000    2          2         1   24      2      2   \n",
       "1  8a8c8f3b-8eb4     120000    2          2         2   26     -1      2   \n",
       "2  85698822-43f5      90000    2          2         2   34      0      0   \n",
       "3  0737c11b-be42      50000    2          2         1   37      0      0   \n",
       "4  3b7f77cc-dbc0      50000    1          2         1   57     -1      0   \n",
       "\n",
       "   PAY_3  PAY_4  PAY_5  PAY_6  BILL_AMT1  BILL_AMT2  BILL_AMT3  BILL_AMT4  \\\n",
       "0     -1     -1     -2     -2       3913       3102        689          0   \n",
       "1      0      0      0      2       2682       1725       2682       3272   \n",
       "2      0      0      0      0      29239      14027      13559      14331   \n",
       "3      0      0      0      0      46990      48233      49291      28314   \n",
       "4     -1      0      0      0       8617       5670      35835      20940   \n",
       "\n",
       "   BILL_AMT5  BILL_AMT6  PAY_AMT1  PAY_AMT2  PAY_AMT3  PAY_AMT4  PAY_AMT5  \\\n",
       "0          0          0         0       689         0         0         0   \n",
       "1       3455       3261         0      1000      1000      1000         0   \n",
       "2      14948      15549      1518      1500      1000      1000      1000   \n",
       "3      28959      29547      2000      2019      1200      1100      1069   \n",
       "4      19146      19131      2000     36681     10000      9000       689   \n",
       "\n",
       "   PAY_AMT6  default payment next month EDUCATION_CAT  graduate school  \\\n",
       "0         0                           1    university                0   \n",
       "1      2000                           1    university                0   \n",
       "2      5000                           0    university                0   \n",
       "3      1000                           0    university                0   \n",
       "4       679                           0    university                0   \n",
       "\n",
       "   high school  others  university  \n",
       "0            0       0           1  \n",
       "1            0       0           1  \n",
       "2            0       0           1  \n",
       "3            0       0           1  \n",
       "4            0       0           1  "
      ]
     },
     "execution_count": 2,
     "metadata": {},
     "output_type": "execute_result"
    }
   ],
   "source": [
    "df=pd.read_csv(\"cleaned_data.csv\")\n",
    "df.head()"
   ]
  },
  {
   "cell_type": "code",
   "execution_count": 3,
   "metadata": {},
   "outputs": [
    {
     "data": {
      "text/plain": [
       "0.2217971797179718"
      ]
     },
     "execution_count": 3,
     "metadata": {},
     "output_type": "execute_result"
    }
   ],
   "source": [
    "df[\"default payment next month\"].mean()"
   ]
  },
  {
   "cell_type": "code",
   "execution_count": 4,
   "metadata": {},
   "outputs": [
    {
     "data": {
      "text/plain": [
       "default payment next month\n",
       "0    20750\n",
       "1     5914\n",
       "Name: ID, dtype: int64"
      ]
     },
     "execution_count": 4,
     "metadata": {},
     "output_type": "execute_result"
    }
   ],
   "source": [
    "df.groupby(\"default payment next month\")[\"ID\"].count()"
   ]
  },
  {
   "cell_type": "raw",
   "metadata": {},
   "source": [
    "We can observe that the given dataset is an imbalanced dataset but most models are designed to work on balanced dataset i.e a 50/50 split b/w the classes.\n",
    "We can deal with imbalanced data using following methods:\n",
    "1)Undersampling the majority class: randomly throwing out samples from the majority class until the class fractions are equal, or at least less imbalanced.\n",
    "2)Oversampling the minority class: randomly adding duplicate samples of the minority class to achieve the same goal.\n",
    "3)Weighting samples: This method is performed as part of the training step, so the minority class collectively has as much \"emphasis\" as the majority class in the fitted model. The effect of this is similar to oversampling."
   ]
  },
  {
   "cell_type": "markdown",
   "metadata": {},
   "source": [
    "# LOGISTIC REGRESSION"
   ]
  },
  {
   "cell_type": "code",
   "execution_count": 5,
   "metadata": {},
   "outputs": [
    {
     "data": {
      "text/plain": [
       "LogisticRegression(C=0.1, class_weight=None, dual=False, fit_intercept=True,\n",
       "                   intercept_scaling=1, l1_ratio=None, max_iter=100,\n",
       "                   multi_class='warn', n_jobs=None, penalty='l2',\n",
       "                   random_state=None, solver='liblinear', tol=0.0001, verbose=0,\n",
       "                   warm_start=False)"
      ]
     },
     "execution_count": 5,
     "metadata": {},
     "output_type": "execute_result"
    }
   ],
   "source": [
    "my_new_lr=LogisticRegression(C=1.0,class_weight=None,dual=False,\n",
    "                            fit_intercept=True,intercept_scaling=1,\n",
    "                            max_iter=100,multi_class=\"warn\",n_jobs=None\n",
    "                            ,penalty=\"l2\",random_state=None,solver=\"warn\"\n",
    "                            ,tol=0.0001,verbose=0,warm_start=False)\n",
    "#WE CAN INSTANTIATE THE DEFAULT OPTIONS LATER ALSO\n",
    "my_new_lr.C=0.1\n",
    "my_new_lr.solver=\"liblinear\"\n",
    "my_new_lr"
   ]
  },
  {
   "cell_type": "code",
   "execution_count": 6,
   "metadata": {},
   "outputs": [
    {
     "data": {
      "text/plain": [
       "array([[2],\n",
       "       [2],\n",
       "       [2],\n",
       "       [2],\n",
       "       [2],\n",
       "       [1],\n",
       "       [1],\n",
       "       [2],\n",
       "       [3],\n",
       "       [3]], dtype=int64)"
      ]
     },
     "execution_count": 6,
     "metadata": {},
     "output_type": "execute_result"
    }
   ],
   "source": [
    "X=df[\"EDUCATION\"][0:10].values.reshape(-1,1)\n",
    "X"
   ]
  },
  {
   "cell_type": "code",
   "execution_count": 7,
   "metadata": {},
   "outputs": [
    {
     "data": {
      "text/plain": [
       "array([1, 1, 0, 0, 0, 0, 0, 0, 0, 0], dtype=int64)"
      ]
     },
     "execution_count": 7,
     "metadata": {},
     "output_type": "execute_result"
    }
   ],
   "source": [
    "y=df[\"default payment next month\"][0:10].values\n",
    "y"
   ]
  },
  {
   "cell_type": "code",
   "execution_count": 8,
   "metadata": {},
   "outputs": [
    {
     "data": {
      "text/plain": [
       "LogisticRegression(C=0.1, class_weight=None, dual=False, fit_intercept=True,\n",
       "                   intercept_scaling=1, l1_ratio=None, max_iter=100,\n",
       "                   multi_class='warn', n_jobs=None, penalty='l2',\n",
       "                   random_state=None, solver='liblinear', tol=0.0001, verbose=0,\n",
       "                   warm_start=False)"
      ]
     },
     "execution_count": 8,
     "metadata": {},
     "output_type": "execute_result"
    }
   ],
   "source": [
    "my_new_lr.fit(X,y)"
   ]
  },
  {
   "cell_type": "code",
   "execution_count": 9,
   "metadata": {},
   "outputs": [
    {
     "data": {
      "text/plain": [
       "array([[3],\n",
       "       [1],\n",
       "       [2],\n",
       "       [2],\n",
       "       [1],\n",
       "       [3],\n",
       "       [1],\n",
       "       [1],\n",
       "       [1],\n",
       "       [3]], dtype=int64)"
      ]
     },
     "execution_count": 9,
     "metadata": {},
     "output_type": "execute_result"
    }
   ],
   "source": [
    "new_X=df[\"EDUCATION\"][10:20].values.reshape(-1,1)\n",
    "new_X"
   ]
  },
  {
   "cell_type": "code",
   "execution_count": 10,
   "metadata": {},
   "outputs": [
    {
     "data": {
      "text/plain": [
       "array([0, 0, 0, 0, 0, 0, 0, 0, 0, 0], dtype=int64)"
      ]
     },
     "execution_count": 10,
     "metadata": {},
     "output_type": "execute_result"
    }
   ],
   "source": [
    "my_new_lr.predict(new_X)"
   ]
  },
  {
   "cell_type": "code",
   "execution_count": 11,
   "metadata": {},
   "outputs": [
    {
     "data": {
      "text/plain": [
       "array([0, 0, 0, 1, 0, 0, 1, 0, 0, 0], dtype=int64)"
      ]
     },
     "execution_count": 11,
     "metadata": {},
     "output_type": "execute_result"
    }
   ],
   "source": [
    "df[\"default payment next month\"][10:20].values"
   ]
  },
  {
   "cell_type": "markdown",
   "metadata": {},
   "source": [
    "# GENERATING SYNTHETIC DATA"
   ]
  },
  {
   "cell_type": "code",
   "execution_count": 12,
   "metadata": {},
   "outputs": [
    {
     "data": {
      "text/plain": [
       "array([9.97184811, 9.32557359, 1.28124448, 9.99040515, 2.36088977,\n",
       "       3.96580727, 3.87910741, 6.69746037, 9.35539071, 8.46310917])"
      ]
     },
     "execution_count": 12,
     "metadata": {},
     "output_type": "execute_result"
    }
   ],
   "source": [
    "X=np.random.uniform(low=0.0,high=10.0,size=(1000,))\n",
    "X[0:10]"
   ]
  },
  {
   "cell_type": "raw",
   "metadata": {},
   "source": [
    "For the response variable we will generate data that follows assumptions of linear regression.Linear regression theoretically should only be used to model data where the response is a linear transformation of the features, with normally distributed (also called Gaussian) noise:\n",
    "y = ax + b + N(u+o)\n",
    "a : SLOPE \n",
    "b : INTERCEPT\n",
    "u : MEAN OF GAUSSIAN NOISE\n",
    "o : STANDARD DEVIATION OF GAUSSIAN NOISE"
   ]
  },
  {
   "cell_type": "code",
   "execution_count": 13,
   "metadata": {},
   "outputs": [],
   "source": [
    "#Here mean is loc and standard deviation is scale\n",
    "slope=0.25\n",
    "intercept=-1.25\n",
    "y=slope*X + np.random.normal(loc=0.0,scale=1.0,size=(1000,)) + intercept"
   ]
  },
  {
   "cell_type": "code",
   "execution_count": 14,
   "metadata": {},
   "outputs": [
    {
     "data": {
      "text/plain": [
       "<matplotlib.collections.PathCollection at 0x1d152fa1a48>"
      ]
     },
     "execution_count": 14,
     "metadata": {},
     "output_type": "execute_result"
    },
    {
     "data": {
      "image/png": "[encoded data removed]",
      "text/plain": [
       "<Figure size 432x288 with 1 Axes>"
      ]
     },
     "metadata": {
      "needs_background": "light"
     },
     "output_type": "display_data"
    }
   ],
   "source": [
    "plt.scatter(X,y,s=15,ec=\"black\")"
   ]
  },
  {
   "cell_type": "markdown",
   "metadata": {},
   "source": [
    "# Linear Regression"
   ]
  },
  {
   "cell_type": "code",
   "execution_count": 15,
   "metadata": {},
   "outputs": [
    {
     "data": {
      "text/plain": [
       "LinearRegression(copy_X=True, fit_intercept=True, n_jobs=None, normalize=False)"
      ]
     },
     "execution_count": 15,
     "metadata": {},
     "output_type": "execute_result"
    }
   ],
   "source": [
    "from sklearn.linear_model import LinearRegression\n",
    "lin_reg=LinearRegression()\n",
    "lin_reg"
   ]
  },
  {
   "cell_type": "code",
   "execution_count": 16,
   "metadata": {},
   "outputs": [
    {
     "name": "stdout",
     "output_type": "stream",
     "text": [
      "-1.2778856418419215\n",
      "[0.25635791]\n"
     ]
    }
   ],
   "source": [
    "lin_reg.fit(X.reshape(-1,1),y)\n",
    "print(lin_reg.intercept_)\n",
    "print(lin_reg.coef_)"
   ]
  },
  {
   "cell_type": "code",
   "execution_count": 17,
   "metadata": {},
   "outputs": [],
   "source": [
    "y_pred=lin_reg.predict(X.reshape(-1,1))"
   ]
  },
  {
   "cell_type": "code",
   "execution_count": 18,
   "metadata": {},
   "outputs": [
    {
     "data": {
      "text/plain": [
       "<matplotlib.collections.PathCollection at 0x1d1530635c8>"
      ]
     },
     "execution_count": 18,
     "metadata": {},
     "output_type": "execute_result"
    },
    {
     "data": {
      "image/png": "[encoded data removed]",
      "text/plain": [
       "<Figure size 432x288 with 1 Axes>"
      ]
     },
     "metadata": {
      "needs_background": "light"
     },
     "output_type": "display_data"
    }
   ],
   "source": [
    "plt.scatter(X,y,s=15,ec=\"black\")"
   ]
  },
  {
   "cell_type": "code",
   "execution_count": 19,
   "metadata": {},
   "outputs": [
    {
     "data": {
      "text/plain": [
       "[<matplotlib.lines.Line2D at 0x1d1530c73c8>]"
      ]
     },
     "execution_count": 19,
     "metadata": {},
     "output_type": "execute_result"
    },
    {
     "data": {
      "image/png": "[encoded data removed]",
      "text/plain": [
       "<Figure size 432x288 with 1 Axes>"
      ]
     },
     "metadata": {
      "needs_background": "light"
     },
     "output_type": "display_data"
    }
   ],
   "source": [
    "plt.plot(X,y_pred,\"r\")"
   ]
  },
  {
   "cell_type": "code",
   "execution_count": 20,
   "metadata": {},
   "outputs": [],
   "source": [
    "from sklearn.model_selection import train_test_split\n",
    "X_train,X_test,y_train,y_test=train_test_split(df[\"EDUCATION\"].values.reshape(-1,1),df[\"default payment next month\"].values,test_size=0.2,random_state=24)"
   ]
  },
  {
   "cell_type": "code",
   "execution_count": 21,
   "metadata": {},
   "outputs": [
    {
     "name": "stdout",
     "output_type": "stream",
     "text": [
      "(21331, 1)\n",
      "(5333, 1)\n",
      "(21331,)\n",
      "(5333,)\n"
     ]
    }
   ],
   "source": [
    "print(X_train.shape)\n",
    "print(X_test.shape)\n",
    "print(y_train.shape)\n",
    "print(y_test.shape)"
   ]
  },
  {
   "cell_type": "code",
   "execution_count": 22,
   "metadata": {},
   "outputs": [
    {
     "data": {
      "text/plain": [
       "0.223102526838873"
      ]
     },
     "execution_count": 22,
     "metadata": {},
     "output_type": "execute_result"
    }
   ],
   "source": [
    "np.mean(y_train)"
   ]
  },
  {
   "cell_type": "code",
   "execution_count": 23,
   "metadata": {},
   "outputs": [
    {
     "data": {
      "text/plain": [
       "0.21657603600225014"
      ]
     },
     "execution_count": 23,
     "metadata": {},
     "output_type": "execute_result"
    }
   ],
   "source": [
    "np.mean(y_test)"
   ]
  },
  {
   "cell_type": "raw",
   "metadata": {},
   "source": [
    "NOTE : We can use Stratified Sampling with the stratify keyword in train_test_split if the class fractions are noticeably different b/w the training and testing sets."
   ]
  },
  {
   "cell_type": "code",
   "execution_count": 24,
   "metadata": {},
   "outputs": [],
   "source": [
    "from sklearn.linear_model import LogisticRegression\n",
    "example_lr = LogisticRegression(C=0.1, class_weight=None, dual=False, fit_intercept=True, \\\n",
    "                                intercept_scaling=1, max_iter=100, multi_class='warn', n_jobs=None, \\\n",
    "                                penalty='l2', random_state=None, solver='liblinear', tol=0.0001, \\\n",
    "                                verbose=0, warm_start=False)"
   ]
  },
  {
   "cell_type": "code",
   "execution_count": 25,
   "metadata": {},
   "outputs": [],
   "source": [
    "example_lr.fit(X_train, y_train)\n",
    "y_pred = example_lr.predict(X_test)"
   ]
  },
  {
   "cell_type": "code",
   "execution_count": 26,
   "metadata": {},
   "outputs": [
    {
     "data": {
      "text/plain": [
       "0.7834239639977498"
      ]
     },
     "execution_count": 26,
     "metadata": {},
     "output_type": "execute_result"
    }
   ],
   "source": [
    "is_correct= y_pred==y_test\n",
    "np.mean(is_correct)"
   ]
  },
  {
   "cell_type": "code",
   "execution_count": 27,
   "metadata": {},
   "outputs": [
    {
     "data": {
      "text/plain": [
       "0.7834239639977498"
      ]
     },
     "execution_count": 27,
     "metadata": {},
     "output_type": "execute_result"
    }
   ],
   "source": [
    "from sklearn import metrics\n",
    "metrics.accuracy_score(y_test,y_pred)"
   ]
  },
  {
   "cell_type": "code",
   "execution_count": 28,
   "metadata": {},
   "outputs": [
    {
     "data": {
      "text/plain": [
       "0.7834239639977498"
      ]
     },
     "execution_count": 28,
     "metadata": {},
     "output_type": "execute_result"
    }
   ],
   "source": [
    "example_lr.score(X_test,y_test)"
   ]
  },
  {
   "cell_type": "code",
   "execution_count": 29,
   "metadata": {},
   "outputs": [
    {
     "data": {
      "text/plain": [
       "array([[4178,    0],\n",
       "       [1155,    0]], dtype=int64)"
      ]
     },
     "execution_count": 29,
     "metadata": {},
     "output_type": "execute_result"
    }
   ],
   "source": [
    "metrics.confusion_matrix(y_test,y_pred)"
   ]
  },
  {
   "cell_type": "code",
   "execution_count": 30,
   "metadata": {},
   "outputs": [
    {
     "data": {
      "text/plain": [
       "array([[0.77423402, 0.22576598],\n",
       "       [0.77423402, 0.22576598],\n",
       "       [0.78792915, 0.21207085],\n",
       "       ...,\n",
       "       [0.78792915, 0.21207085],\n",
       "       [0.78792915, 0.21207085],\n",
       "       [0.78792915, 0.21207085]])"
      ]
     },
     "execution_count": 30,
     "metadata": {},
     "output_type": "execute_result"
    }
   ],
   "source": [
    "y_pred_proba=example_lr.predict_proba(X_test)\n",
    "y_pred_proba"
   ]
  },
  {
   "cell_type": "code",
   "execution_count": 31,
   "metadata": {},
   "outputs": [
    {
     "data": {
      "text/plain": [
       "array([1., 1., 1., ..., 1., 1., 1.])"
      ]
     },
     "execution_count": 31,
     "metadata": {},
     "output_type": "execute_result"
    }
   ],
   "source": [
    "prob_sum=np.sum(y_pred_proba,1)\n",
    "prob_sum"
   ]
  },
  {
   "cell_type": "code",
   "execution_count": 32,
   "metadata": {},
   "outputs": [
    {
     "data": {
      "text/plain": [
       "(5333,)"
      ]
     },
     "execution_count": 32,
     "metadata": {},
     "output_type": "execute_result"
    }
   ],
   "source": [
    "prob_sum.shape"
   ]
  },
  {
   "cell_type": "code",
   "execution_count": 33,
   "metadata": {},
   "outputs": [
    {
     "data": {
      "text/plain": [
       "array([1.])"
      ]
     },
     "execution_count": 33,
     "metadata": {},
     "output_type": "execute_result"
    }
   ],
   "source": [
    "np.unique(prob_sum)"
   ]
  },
  {
   "cell_type": "code",
   "execution_count": 34,
   "metadata": {},
   "outputs": [
    {
     "data": {
      "text/plain": [
       "array([0.22576598, 0.22576598, 0.21207085, ..., 0.21207085, 0.21207085,\n",
       "       0.21207085])"
      ]
     },
     "execution_count": 34,
     "metadata": {},
     "output_type": "execute_result"
    }
   ],
   "source": [
    "pos_proba=y_pred_proba[:,1]\n",
    "pos_proba"
   ]
  },
  {
   "cell_type": "code",
   "execution_count": 35,
   "metadata": {},
   "outputs": [
    {
     "data": {
      "text/plain": [
       "Text(0, 0.5, 'Number of samples')"
      ]
     },
     "execution_count": 35,
     "metadata": {},
     "output_type": "execute_result"
    },
    {
     "data": {
      "image/png": "[encoded data removed]",
      "text/plain": [
       "<Figure size 432x288 with 1 Axes>"
      ]
     },
     "metadata": {
      "needs_background": "light"
     },
     "output_type": "display_data"
    }
   ],
   "source": [
    "plt.hist(pos_proba)\n",
    "plt.xlabel('Predicted probability of positive class for testing data')\n",
    "plt.ylabel('Number of samples')"
   ]
  },
  {
   "cell_type": "code",
   "execution_count": 36,
   "metadata": {},
   "outputs": [],
   "source": [
    "pos_sample_pos_proba = pos_proba[y_test==1]\n",
    "neg_sample_pos_proba = pos_proba[y_test==0]"
   ]
  },
  {
   "cell_type": "code",
   "execution_count": 37,
   "metadata": {},
   "outputs": [
    {
     "data": {
      "text/plain": [
       "Text(0, 0.5, 'Number of samples')"
      ]
     },
     "execution_count": 37,
     "metadata": {},
     "output_type": "execute_result"
    },
    {
     "data": {
      "image/png": "[encoded data removed]",
      "text/plain": [
       "<Figure size 432x288 with 1 Axes>"
      ]
     },
     "metadata": {
      "needs_background": "light"
     },
     "output_type": "display_data"
    }
   ],
   "source": [
    "plt.hist([pos_sample_pos_proba, neg_sample_pos_proba], histtype='barstacked')\n",
    "plt.legend(['Positive samples', 'Negative samples'])\n",
    "plt.xlabel('Predicted probability of positive class')\n",
    "plt.ylabel('Number of samples')"
   ]
  },
  {
   "cell_type": "code",
   "execution_count": 38,
   "metadata": {},
   "outputs": [],
   "source": [
    "fpr,tpr,thresholds=metrics.roc_curve(y_test,pos_proba)"
   ]
  },
  {
   "cell_type": "code",
   "execution_count": 39,
   "metadata": {},
   "outputs": [
    {
     "data": {
      "text/plain": [
       "Text(0.5, 1.0, 'ROC curve')"
      ]
     },
     "execution_count": 39,
     "metadata": {},
     "output_type": "execute_result"
    },
    {
     "data": {
      "image/png": "[encoded data removed]",
      "text/plain": [
       "<Figure size 432x288 with 1 Axes>"
      ]
     },
     "metadata": {
      "needs_background": "light"
     },
     "output_type": "display_data"
    }
   ],
   "source": [
    "plt.plot(fpr, tpr, '*-')\n",
    "plt.plot([0, 1], [0, 1], 'r--')\n",
    "plt.legend(['Logistic regression', 'Random chance'])\n",
    "plt.xlabel('FPR')\n",
    "plt.ylabel('TPR')\n",
    "plt.title('ROC curve')"
   ]
  },
  {
   "cell_type": "code",
   "execution_count": 40,
   "metadata": {},
   "outputs": [
    {
     "data": {
      "text/plain": [
       "array([1.2549944 , 0.2549944 , 0.24007604, 0.22576598, 0.21207085])"
      ]
     },
     "execution_count": 40,
     "metadata": {},
     "output_type": "execute_result"
    }
   ],
   "source": [
    "thresholds"
   ]
  },
  {
   "cell_type": "code",
   "execution_count": 41,
   "metadata": {},
   "outputs": [
    {
     "data": {
      "text/plain": [
       "0.5434650477972642"
      ]
     },
     "execution_count": 41,
     "metadata": {},
     "output_type": "execute_result"
    }
   ],
   "source": [
    "metrics.roc_auc_score(y_test, pos_proba)"
   ]
  },
  {
   "cell_type": "code",
   "execution_count": 42,
   "metadata": {},
   "outputs": [
    {
     "data": {
      "text/plain": [
       "(array([0.21657604, 0.23536232, 0.26315789, 0.06097561, 1.        ]),\n",
       " array([1.        , 0.7030303 , 0.21212121, 0.004329  , 0.        ]),\n",
       " array([0.21207085, 0.22576598, 0.24007604, 0.2549944 ]))"
      ]
     },
     "execution_count": 42,
     "metadata": {},
     "output_type": "execute_result"
    }
   ],
   "source": [
    "metrics.precision_recall_curve(y_test,pos_proba)"
   ]
  },
  {
   "cell_type": "markdown",
   "metadata": {},
   "source": [
    "# LOGISTIC REGRESSION"
   ]
  },
  {
   "cell_type": "code",
   "execution_count": 43,
   "metadata": {},
   "outputs": [
    {
     "data": {
      "text/plain": [
       "Index(['ID', 'LIMIT_BAL', 'SEX', 'EDUCATION', 'MARRIAGE', 'AGE', 'PAY_1',\n",
       "       'PAY_2', 'PAY_3', 'PAY_4', 'PAY_5', 'PAY_6', 'BILL_AMT1', 'BILL_AMT2',\n",
       "       'BILL_AMT3', 'BILL_AMT4', 'BILL_AMT5', 'BILL_AMT6', 'PAY_AMT1',\n",
       "       'PAY_AMT2', 'PAY_AMT3', 'PAY_AMT4', 'PAY_AMT5', 'PAY_AMT6',\n",
       "       'default payment next month', 'EDUCATION_CAT', 'graduate school',\n",
       "       'high school', 'others', 'university'],\n",
       "      dtype='object')"
      ]
     },
     "execution_count": 43,
     "metadata": {},
     "output_type": "execute_result"
    }
   ],
   "source": [
    "df.columns"
   ]
  },
  {
   "cell_type": "code",
   "execution_count": 44,
   "metadata": {},
   "outputs": [
    {
     "data": {
      "text/html": [
       "<div>\n",
       "<style scoped>\n",
       "    .dataframe tbody tr th:only-of-type {\n",
       "        vertical-align: middle;\n",
       "    }\n",
       "\n",
       "    .dataframe tbody tr th {\n",
       "        vertical-align: top;\n",
       "    }\n",
       "\n",
       "    .dataframe thead th {\n",
       "        text-align: right;\n",
       "    }\n",
       "</style>\n",
       "<table border=\"1\" class=\"dataframe\">\n",
       "  <thead>\n",
       "    <tr style=\"text-align: right;\">\n",
       "      <th></th>\n",
       "      <th>LIMIT_BAL</th>\n",
       "      <th>EDUCATION</th>\n",
       "      <th>MARRIAGE</th>\n",
       "      <th>AGE</th>\n",
       "      <th>PAY_1</th>\n",
       "    </tr>\n",
       "  </thead>\n",
       "  <tbody>\n",
       "    <tr>\n",
       "      <td>LIMIT_BAL</td>\n",
       "      <td>1.000000</td>\n",
       "      <td>-0.232688</td>\n",
       "      <td>-0.111873</td>\n",
       "      <td>0.149157</td>\n",
       "      <td>-0.273396</td>\n",
       "    </tr>\n",
       "    <tr>\n",
       "      <td>EDUCATION</td>\n",
       "      <td>-0.232688</td>\n",
       "      <td>1.000000</td>\n",
       "      <td>-0.137097</td>\n",
       "      <td>0.179035</td>\n",
       "      <td>0.112653</td>\n",
       "    </tr>\n",
       "    <tr>\n",
       "      <td>MARRIAGE</td>\n",
       "      <td>-0.111873</td>\n",
       "      <td>-0.137097</td>\n",
       "      <td>1.000000</td>\n",
       "      <td>-0.412828</td>\n",
       "      <td>0.019759</td>\n",
       "    </tr>\n",
       "    <tr>\n",
       "      <td>AGE</td>\n",
       "      <td>0.149157</td>\n",
       "      <td>0.179035</td>\n",
       "      <td>-0.412828</td>\n",
       "      <td>1.000000</td>\n",
       "      <td>-0.044277</td>\n",
       "    </tr>\n",
       "    <tr>\n",
       "      <td>PAY_1</td>\n",
       "      <td>-0.273396</td>\n",
       "      <td>0.112653</td>\n",
       "      <td>0.019759</td>\n",
       "      <td>-0.044277</td>\n",
       "      <td>1.000000</td>\n",
       "    </tr>\n",
       "  </tbody>\n",
       "</table>\n",
       "</div>"
      ],
      "text/plain": [
       "           LIMIT_BAL  EDUCATION  MARRIAGE       AGE     PAY_1\n",
       "LIMIT_BAL   1.000000  -0.232688 -0.111873  0.149157 -0.273396\n",
       "EDUCATION  -0.232688   1.000000 -0.137097  0.179035  0.112653\n",
       "MARRIAGE   -0.111873  -0.137097  1.000000 -0.412828  0.019759\n",
       "AGE         0.149157   0.179035 -0.412828  1.000000 -0.044277\n",
       "PAY_1      -0.273396   0.112653  0.019759 -0.044277  1.000000"
      ]
     },
     "execution_count": 44,
     "metadata": {},
     "output_type": "execute_result"
    }
   ],
   "source": [
    "features_response=['LIMIT_BAL','EDUCATION', 'MARRIAGE', 'AGE', 'PAY_1',\n",
    "       'BILL_AMT1', 'BILL_AMT2','BILL_AMT3', 'BILL_AMT4', 'BILL_AMT5', 'BILL_AMT6', 'PAY_AMT1',\n",
    "       'PAY_AMT2', 'PAY_AMT3', 'PAY_AMT4', 'PAY_AMT5', 'PAY_AMT6',\n",
    "       'default payment next month']\n",
    "corr=df[features_response].corr()\n",
    "corr.iloc[0:5,0:5]"
   ]
  },
  {
   "cell_type": "code",
   "execution_count": 45,
   "metadata": {},
   "outputs": [
    {
     "data": {
      "text/plain": [
       "<matplotlib.axes._subplots.AxesSubplot at 0x1d1534fa6c8>"
      ]
     },
     "execution_count": 45,
     "metadata": {},
     "output_type": "execute_result"
    },
    {
     "data": {
      "image/png": "[encoded data removed]",
      "text/plain": [
       "<Figure size 432x288 with 2 Axes>"
      ]
     },
     "metadata": {
      "needs_background": "light"
     },
     "output_type": "display_data"
    }
   ],
   "source": [
    "sns.heatmap(corr)"
   ]
  },
  {
   "cell_type": "markdown",
   "metadata": {},
   "source": [
    "# F TEST"
   ]
  },
  {
   "cell_type": "code",
   "execution_count": 46,
   "metadata": {},
   "outputs": [
    {
     "name": "stdout",
     "output_type": "stream",
     "text": [
      "(26664, 17) (26664,)\n"
     ]
    }
   ],
   "source": [
    "#SEPEARTING THE FEATURES AND RESPONSES\n",
    "X=df[features_response].iloc[:,:-1].values\n",
    "y=df[features_response].iloc[:,-1].values\n",
    "print(X.shape,y.shape)"
   ]
  },
  {
   "cell_type": "code",
   "execution_count": 47,
   "metadata": {},
   "outputs": [],
   "source": [
    "from sklearn.feature_selection import f_classif\n",
    "[f_stat,f_p_value]=f_classif(X,y)"
   ]
  },
  {
   "cell_type": "code",
   "execution_count": 48,
   "metadata": {},
   "outputs": [
    {
     "data": {
      "text/html": [
       "<div>\n",
       "<style scoped>\n",
       "    .dataframe tbody tr th:only-of-type {\n",
       "        vertical-align: middle;\n",
       "    }\n",
       "\n",
       "    .dataframe tbody tr th {\n",
       "        vertical-align: top;\n",
       "    }\n",
       "\n",
       "    .dataframe thead th {\n",
       "        text-align: right;\n",
       "    }\n",
       "</style>\n",
       "<table border=\"1\" class=\"dataframe\">\n",
       "  <thead>\n",
       "    <tr style=\"text-align: right;\">\n",
       "      <th></th>\n",
       "      <th>Feature</th>\n",
       "      <th>F statistic</th>\n",
       "      <th>p value</th>\n",
       "    </tr>\n",
       "  </thead>\n",
       "  <tbody>\n",
       "    <tr>\n",
       "      <td>4</td>\n",
       "      <td>PAY_1</td>\n",
       "      <td>3156.672300</td>\n",
       "      <td>0.000000e+00</td>\n",
       "    </tr>\n",
       "    <tr>\n",
       "      <td>0</td>\n",
       "      <td>LIMIT_BAL</td>\n",
       "      <td>651.324071</td>\n",
       "      <td>5.838366e-142</td>\n",
       "    </tr>\n",
       "    <tr>\n",
       "      <td>11</td>\n",
       "      <td>PAY_AMT1</td>\n",
       "      <td>140.612679</td>\n",
       "      <td>2.358354e-32</td>\n",
       "    </tr>\n",
       "    <tr>\n",
       "      <td>12</td>\n",
       "      <td>PAY_AMT2</td>\n",
       "      <td>101.408321</td>\n",
       "      <td>8.256124e-24</td>\n",
       "    </tr>\n",
       "    <tr>\n",
       "      <td>13</td>\n",
       "      <td>PAY_AMT3</td>\n",
       "      <td>90.023873</td>\n",
       "      <td>2.542641e-21</td>\n",
       "    </tr>\n",
       "    <tr>\n",
       "      <td>15</td>\n",
       "      <td>PAY_AMT5</td>\n",
       "      <td>85.843295</td>\n",
       "      <td>2.090120e-20</td>\n",
       "    </tr>\n",
       "    <tr>\n",
       "      <td>16</td>\n",
       "      <td>PAY_AMT6</td>\n",
       "      <td>80.420784</td>\n",
       "      <td>3.219565e-19</td>\n",
       "    </tr>\n",
       "    <tr>\n",
       "      <td>14</td>\n",
       "      <td>PAY_AMT4</td>\n",
       "      <td>79.640021</td>\n",
       "      <td>4.774112e-19</td>\n",
       "    </tr>\n",
       "    <tr>\n",
       "      <td>1</td>\n",
       "      <td>EDUCATION</td>\n",
       "      <td>32.637768</td>\n",
       "      <td>1.122175e-08</td>\n",
       "    </tr>\n",
       "    <tr>\n",
       "      <td>2</td>\n",
       "      <td>MARRIAGE</td>\n",
       "      <td>18.078027</td>\n",
       "      <td>2.127555e-05</td>\n",
       "    </tr>\n",
       "    <tr>\n",
       "      <td>5</td>\n",
       "      <td>BILL_AMT1</td>\n",
       "      <td>11.218406</td>\n",
       "      <td>8.110226e-04</td>\n",
       "    </tr>\n",
       "    <tr>\n",
       "      <td>7</td>\n",
       "      <td>BILL_AMT3</td>\n",
       "      <td>5.722938</td>\n",
       "      <td>1.675157e-02</td>\n",
       "    </tr>\n",
       "    <tr>\n",
       "      <td>6</td>\n",
       "      <td>BILL_AMT2</td>\n",
       "      <td>5.668454</td>\n",
       "      <td>1.727965e-02</td>\n",
       "    </tr>\n",
       "    <tr>\n",
       "      <td>3</td>\n",
       "      <td>AGE</td>\n",
       "      <td>5.479140</td>\n",
       "      <td>1.925206e-02</td>\n",
       "    </tr>\n",
       "    <tr>\n",
       "      <td>8</td>\n",
       "      <td>BILL_AMT4</td>\n",
       "      <td>3.434740</td>\n",
       "      <td>6.384965e-02</td>\n",
       "    </tr>\n",
       "    <tr>\n",
       "      <td>9</td>\n",
       "      <td>BILL_AMT5</td>\n",
       "      <td>1.216082</td>\n",
       "      <td>2.701409e-01</td>\n",
       "    </tr>\n",
       "    <tr>\n",
       "      <td>10</td>\n",
       "      <td>BILL_AMT6</td>\n",
       "      <td>1.049561</td>\n",
       "      <td>3.056176e-01</td>\n",
       "    </tr>\n",
       "  </tbody>\n",
       "</table>\n",
       "</div>"
      ],
      "text/plain": [
       "      Feature  F statistic        p value\n",
       "4       PAY_1  3156.672300   0.000000e+00\n",
       "0   LIMIT_BAL   651.324071  5.838366e-142\n",
       "11   PAY_AMT1   140.612679   2.358354e-32\n",
       "12   PAY_AMT2   101.408321   8.256124e-24\n",
       "13   PAY_AMT3    90.023873   2.542641e-21\n",
       "15   PAY_AMT5    85.843295   2.090120e-20\n",
       "16   PAY_AMT6    80.420784   3.219565e-19\n",
       "14   PAY_AMT4    79.640021   4.774112e-19\n",
       "1   EDUCATION    32.637768   1.122175e-08\n",
       "2    MARRIAGE    18.078027   2.127555e-05\n",
       "5   BILL_AMT1    11.218406   8.110226e-04\n",
       "7   BILL_AMT3     5.722938   1.675157e-02\n",
       "6   BILL_AMT2     5.668454   1.727965e-02\n",
       "3         AGE     5.479140   1.925206e-02\n",
       "8   BILL_AMT4     3.434740   6.384965e-02\n",
       "9   BILL_AMT5     1.216082   2.701409e-01\n",
       "10  BILL_AMT6     1.049561   3.056176e-01"
      ]
     },
     "execution_count": 48,
     "metadata": {},
     "output_type": "execute_result"
    }
   ],
   "source": [
    "f_test_df=pd.DataFrame({\"Feature\":features_response[:-1],\n",
    "                       \"F statistic\":f_stat,\"p value\":f_p_value})\n",
    "f_test_df.sort_values(\"p value\")"
   ]
  },
  {
   "cell_type": "raw",
   "metadata": {},
   "source": [
    "If we wanted to retrieve only the 20% of features with the highest F-statistics, we can do this easily with the SelectPercentile class. Also there is a similar class for selection the top \"k\" features (where k is any number you specify), called SelectKBest. Here we demonstrate how to select the top 20%."
   ]
  },
  {
   "cell_type": "code",
   "execution_count": 49,
   "metadata": {},
   "outputs": [
    {
     "data": {
      "text/plain": [
       "SelectPercentile(percentile=20,\n",
       "                 score_func=<function f_classif at 0x000001D15360CE58>)"
      ]
     },
     "execution_count": 49,
     "metadata": {},
     "output_type": "execute_result"
    }
   ],
   "source": [
    "from sklearn.feature_selection import SelectPercentile\n",
    "selector=SelectPercentile(f_classif,percentile=20)\n",
    "selector.fit(X,y)"
   ]
  },
  {
   "cell_type": "code",
   "execution_count": 50,
   "metadata": {},
   "outputs": [
    {
     "data": {
      "text/plain": [
       "array([ True, False, False, False,  True, False, False, False, False,\n",
       "       False, False,  True,  True, False, False, False, False])"
      ]
     },
     "execution_count": 50,
     "metadata": {},
     "output_type": "execute_result"
    }
   ],
   "source": [
    "best_feature_ix=selector.get_support()\n",
    "best_feature_ix"
   ]
  },
  {
   "cell_type": "code",
   "execution_count": 51,
   "metadata": {},
   "outputs": [
    {
     "data": {
      "text/plain": [
       "['LIMIT_BAL', 'PAY_1', 'PAY_AMT1', 'PAY_AMT2']"
      ]
     },
     "execution_count": 51,
     "metadata": {},
     "output_type": "execute_result"
    }
   ],
   "source": [
    "features=features_response[:-1]\n",
    "best_features=[features[counter] for counter in range(len(features))\n",
    "              if best_feature_ix[counter]]\n",
    "best_features"
   ]
  },
  {
   "cell_type": "code",
   "execution_count": 52,
   "metadata": {},
   "outputs": [
    {
     "data": {
      "text/plain": [
       "0.2217971797179718"
      ]
     },
     "execution_count": 52,
     "metadata": {},
     "output_type": "execute_result"
    }
   ],
   "source": [
    "overall_default_rate=df[\"default payment next month\"].mean()\n",
    "overall_default_rate"
   ]
  },
  {
   "cell_type": "code",
   "execution_count": 53,
   "metadata": {},
   "outputs": [
    {
     "data": {
      "text/html": [
       "<div>\n",
       "<style scoped>\n",
       "    .dataframe tbody tr th:only-of-type {\n",
       "        vertical-align: middle;\n",
       "    }\n",
       "\n",
       "    .dataframe tbody tr th {\n",
       "        vertical-align: top;\n",
       "    }\n",
       "\n",
       "    .dataframe thead th {\n",
       "        text-align: right;\n",
       "    }\n",
       "</style>\n",
       "<table border=\"1\" class=\"dataframe\">\n",
       "  <thead>\n",
       "    <tr style=\"text-align: right;\">\n",
       "      <th></th>\n",
       "      <th>default payment next month</th>\n",
       "    </tr>\n",
       "    <tr>\n",
       "      <th>PAY_1</th>\n",
       "      <th></th>\n",
       "    </tr>\n",
       "  </thead>\n",
       "  <tbody>\n",
       "    <tr>\n",
       "      <td>-2</td>\n",
       "      <td>0.131664</td>\n",
       "    </tr>\n",
       "    <tr>\n",
       "      <td>-1</td>\n",
       "      <td>0.170002</td>\n",
       "    </tr>\n",
       "    <tr>\n",
       "      <td>0</td>\n",
       "      <td>0.128295</td>\n",
       "    </tr>\n",
       "    <tr>\n",
       "      <td>1</td>\n",
       "      <td>0.336400</td>\n",
       "    </tr>\n",
       "    <tr>\n",
       "      <td>2</td>\n",
       "      <td>0.694701</td>\n",
       "    </tr>\n",
       "    <tr>\n",
       "      <td>3</td>\n",
       "      <td>0.773973</td>\n",
       "    </tr>\n",
       "    <tr>\n",
       "      <td>4</td>\n",
       "      <td>0.682540</td>\n",
       "    </tr>\n",
       "    <tr>\n",
       "      <td>5</td>\n",
       "      <td>0.434783</td>\n",
       "    </tr>\n",
       "    <tr>\n",
       "      <td>6</td>\n",
       "      <td>0.545455</td>\n",
       "    </tr>\n",
       "    <tr>\n",
       "      <td>7</td>\n",
       "      <td>0.777778</td>\n",
       "    </tr>\n",
       "    <tr>\n",
       "      <td>8</td>\n",
       "      <td>0.588235</td>\n",
       "    </tr>\n",
       "  </tbody>\n",
       "</table>\n",
       "</div>"
      ],
      "text/plain": [
       "       default payment next month\n",
       "PAY_1                            \n",
       "-2                       0.131664\n",
       "-1                       0.170002\n",
       " 0                       0.128295\n",
       " 1                       0.336400\n",
       " 2                       0.694701\n",
       " 3                       0.773973\n",
       " 4                       0.682540\n",
       " 5                       0.434783\n",
       " 6                       0.545455\n",
       " 7                       0.777778\n",
       " 8                       0.588235"
      ]
     },
     "execution_count": 53,
     "metadata": {},
     "output_type": "execute_result"
    }
   ],
   "source": [
    "group_by_pay_mean_y = df.groupby('PAY_1').agg({'default payment next month':np.mean})\n",
    "group_by_pay_mean_y"
   ]
  },
  {
   "cell_type": "code",
   "execution_count": 54,
   "metadata": {},
   "outputs": [
    {
     "data": {
      "text/plain": [
       "<matplotlib.legend.Legend at 0x1d15643ce08>"
      ]
     },
     "execution_count": 54,
     "metadata": {},
     "output_type": "execute_result"
    },
    {
     "data": {
      "image/png": "[encoded data removed]",
      "text/plain": [
       "<Figure size 432x288 with 1 Axes>"
      ]
     },
     "metadata": {
      "needs_background": "light"
     },
     "output_type": "display_data"
    }
   ],
   "source": [
    "axes=plt.axes()\n",
    "axes.axhline(overall_default_rate,color=\"red\")\n",
    "group_by_pay_mean_y.plot(marker=\"x\",legend=False,ax=axes)\n",
    "axes.set_ylabel(\"Proportion of credit defaults\")\n",
    "axes.legend([\"Entire dataset\",\"Groups of PAY_1\"])"
   ]
  },
  {
   "cell_type": "code",
   "execution_count": 55,
   "metadata": {},
   "outputs": [],
   "source": [
    "pos_mask= y==1\n",
    "neg_mask= y==0"
   ]
  },
  {
   "cell_type": "code",
   "execution_count": 56,
   "metadata": {},
   "outputs": [
    {
     "data": {
      "text/plain": [
       "Text(0.5, 1.0, 'Credit limits by response variable')"
      ]
     },
     "execution_count": 56,
     "metadata": {},
     "output_type": "execute_result"
    },
    {
     "data": {
      "image/png": "[encoded data removed]",
      "text/plain": [
       "<Figure size 432x288 with 1 Axes>"
      ]
     },
     "metadata": {
      "needs_background": "light"
     },
     "output_type": "display_data"
    }
   ],
   "source": [
    "axes=plt.axes()\n",
    "axes.hist(df.loc[neg_mask,\"LIMIT_BAL\"],alpha=0.5,color=\"blue\",ec=\"black\")\n",
    "axes.hist(df.loc[pos_mask,\"LIMIT_BAL\"],alpha=0.5,color=\"red\",ec=\"black\")\n",
    "axes.tick_params(axis=\"x\",labelrotation=45)\n",
    "axes.set_xlabel(\"Credit Limit (NT$)\")\n",
    "axes.set_ylabel(\"Number of Accounts\")\n",
    "axes.legend([\"Not Defaulted\",\"Defaulted\"])\n",
    "axes.set_title(\"Credit limits by response variable\")"
   ]
  },
  {
   "cell_type": "code",
   "execution_count": 57,
   "metadata": {},
   "outputs": [
    {
     "name": "stdout",
     "output_type": "stream",
     "text": [
      "800000\n"
     ]
    }
   ],
   "source": [
    "bin_edges=list(range(0,850000,50000))\n",
    "print(bin_edges[-1])"
   ]
  },
  {
   "cell_type": "code",
   "execution_count": 58,
   "metadata": {},
   "outputs": [
    {
     "data": {
      "text/plain": [
       "Text(0.5, 1.0, 'Normalized distributions of credit limits by response variable')"
      ]
     },
     "execution_count": 58,
     "metadata": {},
     "output_type": "execute_result"
    },
    {
     "data": {
      "image/png": "[encoded data removed]",
      "text/plain": [
       "<Figure size 2400x1600 with 1 Axes>"
      ]
     },
     "metadata": {
      "needs_background": "light"
     },
     "output_type": "display_data"
    }
   ],
   "source": [
    "mpl.rcParams['figure.dpi'] = 400 \n",
    "axes = plt.axes()\n",
    "axes.hist(df.loc[neg_mask, 'LIMIT_BAL'], bins=bin_edges, alpha=0.5, density=True, color='blue')\n",
    "axes.hist(df.loc[pos_mask, 'LIMIT_BAL'], bins=bin_edges, alpha=0.5, density=True, color='red')\n",
    "axes.tick_params(axis='x', labelrotation=45)\n",
    "axes.set_xlabel('Credit limit (NT$)')\n",
    "axes.set_ylabel('Proportion of accounts')\n",
    "y_ticks = axes.get_yticks()\n",
    "axes.set_yticklabels(np.round(y_ticks*50000,2))\n",
    "axes.legend(['Not defaulted', 'Defaulted'])\n",
    "axes.set_title('Normalized distributions of credit limits by response variable')"
   ]
  },
  {
   "cell_type": "code",
   "execution_count": 59,
   "metadata": {},
   "outputs": [
    {
     "data": {
      "text/html": [
       "<div>\n",
       "<style scoped>\n",
       "    .dataframe tbody tr th:only-of-type {\n",
       "        vertical-align: middle;\n",
       "    }\n",
       "\n",
       "    .dataframe tbody tr th {\n",
       "        vertical-align: top;\n",
       "    }\n",
       "\n",
       "    .dataframe thead th {\n",
       "        text-align: right;\n",
       "    }\n",
       "</style>\n",
       "<table border=\"1\" class=\"dataframe\">\n",
       "  <thead>\n",
       "    <tr style=\"text-align: right;\">\n",
       "      <th></th>\n",
       "      <th>default payment next month</th>\n",
       "    </tr>\n",
       "    <tr>\n",
       "      <th>PAY_1</th>\n",
       "      <th></th>\n",
       "    </tr>\n",
       "  </thead>\n",
       "  <tbody>\n",
       "    <tr>\n",
       "      <td>-2</td>\n",
       "      <td>0.131664</td>\n",
       "    </tr>\n",
       "    <tr>\n",
       "      <td>-1</td>\n",
       "      <td>0.170002</td>\n",
       "    </tr>\n",
       "    <tr>\n",
       "      <td>0</td>\n",
       "      <td>0.128295</td>\n",
       "    </tr>\n",
       "    <tr>\n",
       "      <td>1</td>\n",
       "      <td>0.336400</td>\n",
       "    </tr>\n",
       "    <tr>\n",
       "      <td>2</td>\n",
       "      <td>0.694701</td>\n",
       "    </tr>\n",
       "    <tr>\n",
       "      <td>3</td>\n",
       "      <td>0.773973</td>\n",
       "    </tr>\n",
       "    <tr>\n",
       "      <td>4</td>\n",
       "      <td>0.682540</td>\n",
       "    </tr>\n",
       "    <tr>\n",
       "      <td>5</td>\n",
       "      <td>0.434783</td>\n",
       "    </tr>\n",
       "    <tr>\n",
       "      <td>6</td>\n",
       "      <td>0.545455</td>\n",
       "    </tr>\n",
       "    <tr>\n",
       "      <td>7</td>\n",
       "      <td>0.777778</td>\n",
       "    </tr>\n",
       "    <tr>\n",
       "      <td>8</td>\n",
       "      <td>0.588235</td>\n",
       "    </tr>\n",
       "  </tbody>\n",
       "</table>\n",
       "</div>"
      ],
      "text/plain": [
       "       default payment next month\n",
       "PAY_1                            \n",
       "-2                       0.131664\n",
       "-1                       0.170002\n",
       " 0                       0.128295\n",
       " 1                       0.336400\n",
       " 2                       0.694701\n",
       " 3                       0.773973\n",
       " 4                       0.682540\n",
       " 5                       0.434783\n",
       " 6                       0.545455\n",
       " 7                       0.777778\n",
       " 8                       0.588235"
      ]
     },
     "execution_count": 59,
     "metadata": {},
     "output_type": "execute_result"
    }
   ],
   "source": [
    "group_by_pay_mean_y"
   ]
  },
  {
   "cell_type": "code",
   "execution_count": 60,
   "metadata": {},
   "outputs": [
    {
     "name": "stdout",
     "output_type": "stream",
     "text": [
      "[0.13166397 0.17000198 0.12829525 0.33639988 0.69470143 0.7739726\n",
      " 0.68253968 0.43478261 0.54545455 0.77777778 0.58823529]\n",
      "[0.86833603 0.82999802 0.87170475 0.66360012 0.30529857 0.2260274\n",
      " 0.31746032 0.56521739 0.45454545 0.22222222 0.41176471]\n"
     ]
    }
   ],
   "source": [
    "p = group_by_pay_mean_y['default payment next month'].values\n",
    "q = 1-p\n",
    "print(p)\n",
    "print(q)"
   ]
  },
  {
   "cell_type": "code",
   "execution_count": 61,
   "metadata": {},
   "outputs": [
    {
     "data": {
      "text/plain": [
       "array([-1.88632574, -1.58561322, -1.91611649, -0.67937918,  0.82219194,\n",
       "        1.23088026,  0.76546784, -0.26236426,  0.18232156,  1.25276297,\n",
       "        0.35667494])"
      ]
     },
     "execution_count": 61,
     "metadata": {},
     "output_type": "execute_result"
    }
   ],
   "source": [
    "odds_ratio = p/q\n",
    "log_odds = np.log(odds_ratio)\n",
    "log_odds"
   ]
  },
  {
   "cell_type": "code",
   "execution_count": 62,
   "metadata": {},
   "outputs": [
    {
     "data": {
      "text/plain": [
       "Text(0.5, 0, 'Values of PAY_1')"
      ]
     },
     "execution_count": 62,
     "metadata": {},
     "output_type": "execute_result"
    },
    {
     "data": {
      "image/png": "[encoded data removed]",
      "text/plain": [
       "<Figure size 2400x1600 with 1 Axes>"
      ]
     },
     "metadata": {
      "needs_background": "light"
     },
     "output_type": "display_data"
    }
   ],
   "source": [
    "plt.plot(group_by_pay_mean_y.index, log_odds, '-x')\n",
    "plt.ylabel('Log odds of default')\n",
    "plt.xlabel('Values of PAY_1')"
   ]
  },
  {
   "cell_type": "code",
   "execution_count": 63,
   "metadata": {},
   "outputs": [
    {
     "data": {
      "text/plain": [
       "LogisticRegression(C=1.0, class_weight=None, dual=False, fit_intercept=True,\n",
       "                   intercept_scaling=1, l1_ratio=None, max_iter=100,\n",
       "                   multi_class='warn', n_jobs=None, penalty='l2',\n",
       "                   random_state=None, solver='liblinear', tol=0.0001, verbose=0,\n",
       "                   warm_start=False)"
      ]
     },
     "execution_count": 63,
     "metadata": {},
     "output_type": "execute_result"
    }
   ],
   "source": [
    "from sklearn.linear_model import LogisticRegression\n",
    "example_lr = LogisticRegression(solver='liblinear')\n",
    "example_lr"
   ]
  },
  {
   "cell_type": "code",
   "execution_count": 64,
   "metadata": {},
   "outputs": [
    {
     "data": {
      "text/plain": [
       "[0,\n",
       " 21,\n",
       " 28,\n",
       " 57,\n",
       " 61,\n",
       " 82,\n",
       " 83,\n",
       " 95,\n",
       " 108,\n",
       " 111,\n",
       " 119,\n",
       " 146,\n",
       " 147,\n",
       " 175,\n",
       " 199,\n",
       " 235,\n",
       " 245,\n",
       " 260,\n",
       " 265,\n",
       " 280,\n",
       " 288,\n",
       " 297,\n",
       " 299,\n",
       " 322,\n",
       " 329,\n",
       " 336,\n",
       " 346,\n",
       " 378,\n",
       " 383,\n",
       " 441,\n",
       " 478,\n",
       " 487,\n",
       " 552,\n",
       " 583,\n",
       " 586,\n",
       " 605,\n",
       " 666,\n",
       " 673,\n",
       " 674,\n",
       " 698,\n",
       " 701,\n",
       " 716,\n",
       " 719,\n",
       " 732,\n",
       " 744,\n",
       " 749,\n",
       " 758,\n",
       " 764,\n",
       " 769,\n",
       " 785,\n",
       " 809,\n",
       " 811,\n",
       " 836,\n",
       " 846,\n",
       " 877,\n",
       " 922,\n",
       " 933,\n",
       " 936,\n",
       " 942,\n",
       " 946,\n",
       " 954,\n",
       " 971,\n",
       " 1017,\n",
       " 1018,\n",
       " 1029,\n",
       " 1031,\n",
       " 1036,\n",
       " 1060,\n",
       " 1083,\n",
       " 1115,\n",
       " 1120,\n",
       " 1123,\n",
       " 1171,\n",
       " 1179,\n",
       " 1180,\n",
       " 1183,\n",
       " 1193,\n",
       " 1201,\n",
       " 1208,\n",
       " 1222,\n",
       " 1236,\n",
       " 1253,\n",
       " 1262,\n",
       " 1285,\n",
       " 1286,\n",
       " 1289,\n",
       " 1293,\n",
       " 1301,\n",
       " 1316,\n",
       " 1339,\n",
       " 1342,\n",
       " 1346,\n",
       " 1363,\n",
       " 1369,\n",
       " 1373,\n",
       " 1375,\n",
       " 1387,\n",
       " 1426,\n",
       " 1447,\n",
       " 1465,\n",
       " 1468,\n",
       " 1477,\n",
       " 1482,\n",
       " 1542,\n",
       " 1544,\n",
       " 1549,\n",
       " 1569,\n",
       " 1583,\n",
       " 1589,\n",
       " 1591,\n",
       " 1648,\n",
       " 1676,\n",
       " 1677,\n",
       " 1687,\n",
       " 1689,\n",
       " 1751,\n",
       " 1754,\n",
       " 1761,\n",
       " 1791,\n",
       " 1797,\n",
       " 1804,\n",
       " 1810,\n",
       " 1813,\n",
       " 1835,\n",
       " 1867,\n",
       " 1872,\n",
       " 1876,\n",
       " 1878,\n",
       " 1890,\n",
       " 1896,\n",
       " 1902,\n",
       " 1905,\n",
       " 1909,\n",
       " 1918,\n",
       " 1919,\n",
       " 1923,\n",
       " 1928,\n",
       " 1971,\n",
       " 1989,\n",
       " 2002,\n",
       " 2021,\n",
       " 2025,\n",
       " 2038,\n",
       " 2046,\n",
       " 2060,\n",
       " 2090,\n",
       " 2097,\n",
       " 2125,\n",
       " 2137,\n",
       " 2138,\n",
       " 2152,\n",
       " 2163,\n",
       " 2170,\n",
       " 2179,\n",
       " 2190,\n",
       " 2192,\n",
       " 2216,\n",
       " 2218,\n",
       " 2223,\n",
       " 2224,\n",
       " 2237,\n",
       " 2255,\n",
       " 2256,\n",
       " 2283,\n",
       " 2300,\n",
       " 2325,\n",
       " 2337,\n",
       " 2350,\n",
       " 2361,\n",
       " 2371,\n",
       " 2409,\n",
       " 2428,\n",
       " 2434,\n",
       " 2463,\n",
       " 2472,\n",
       " 2486,\n",
       " 2489,\n",
       " 2525,\n",
       " 2527,\n",
       " 2541,\n",
       " 2555,\n",
       " 2556,\n",
       " 2558,\n",
       " 2564,\n",
       " 2618,\n",
       " 2619,\n",
       " 2638,\n",
       " 2641,\n",
       " 2663,\n",
       " 2682,\n",
       " 2690,\n",
       " 2691,\n",
       " 2703,\n",
       " 2704,\n",
       " 2705,\n",
       " 2707,\n",
       " 2722,\n",
       " 2725,\n",
       " 2767,\n",
       " 2803,\n",
       " 2816,\n",
       " 2825,\n",
       " 2853,\n",
       " 2895,\n",
       " 2903,\n",
       " 2906,\n",
       " 2921,\n",
       " 2941,\n",
       " 2944,\n",
       " 2948,\n",
       " 2968,\n",
       " 2992,\n",
       " 2993,\n",
       " 2995,\n",
       " 3023,\n",
       " 3033,\n",
       " 3058,\n",
       " 3092,\n",
       " 3115,\n",
       " 3119,\n",
       " 3133,\n",
       " 3142,\n",
       " 3145,\n",
       " 3168,\n",
       " 3179,\n",
       " 3187,\n",
       " 3188,\n",
       " 3208,\n",
       " 3214,\n",
       " 3216,\n",
       " 3217,\n",
       " 3220,\n",
       " 3262,\n",
       " 3265,\n",
       " 3284,\n",
       " 3292,\n",
       " 3304,\n",
       " 3339,\n",
       " 3343,\n",
       " 3354,\n",
       " 3372,\n",
       " 3390,\n",
       " 3435,\n",
       " 3440,\n",
       " 3453,\n",
       " 3456,\n",
       " 3462,\n",
       " 3467,\n",
       " 3470,\n",
       " 3523,\n",
       " 3546,\n",
       " 3574,\n",
       " 3579,\n",
       " 3585,\n",
       " 3591,\n",
       " 3593,\n",
       " 3597,\n",
       " 3616,\n",
       " 3623,\n",
       " 3640,\n",
       " 3651,\n",
       " 3663,\n",
       " 3668,\n",
       " 3700,\n",
       " 3706,\n",
       " 3708,\n",
       " 3712,\n",
       " 3724,\n",
       " 3751,\n",
       " 3774,\n",
       " 3797,\n",
       " 3868,\n",
       " 3870,\n",
       " 3901,\n",
       " 3905,\n",
       " 3914,\n",
       " 3968,\n",
       " 3970,\n",
       " 3986,\n",
       " 3994,\n",
       " 4010,\n",
       " 4014,\n",
       " 4021,\n",
       " 4023,\n",
       " 4051,\n",
       " 4059,\n",
       " 4075,\n",
       " 4078,\n",
       " 4088,\n",
       " 4095,\n",
       " 4137,\n",
       " 4149,\n",
       " 4154,\n",
       " 4166,\n",
       " 4167,\n",
       " 4177,\n",
       " 4188,\n",
       " 4195,\n",
       " 4206,\n",
       " 4209,\n",
       " 4223,\n",
       " 4251,\n",
       " 4255,\n",
       " 4279,\n",
       " 4308,\n",
       " 4310,\n",
       " 4313,\n",
       " 4326,\n",
       " 4328,\n",
       " 4332,\n",
       " 4348,\n",
       " 4358,\n",
       " 4374,\n",
       " 4378,\n",
       " 4381,\n",
       " 4397,\n",
       " 4418,\n",
       " 4433,\n",
       " 4444,\n",
       " 4448,\n",
       " 4484,\n",
       " 4499,\n",
       " 4506,\n",
       " 4509,\n",
       " 4525,\n",
       " 4526,\n",
       " 4531,\n",
       " 4542,\n",
       " 4555,\n",
       " 4557,\n",
       " 4558,\n",
       " 4572,\n",
       " 4573,\n",
       " 4574,\n",
       " 4600,\n",
       " 4606,\n",
       " 4611,\n",
       " 4647,\n",
       " 4651,\n",
       " 4660,\n",
       " 4701,\n",
       " 4731,\n",
       " 4737,\n",
       " 4752,\n",
       " 4753,\n",
       " 4755,\n",
       " 4802,\n",
       " 4826,\n",
       " 4845,\n",
       " 4860,\n",
       " 4868,\n",
       " 4882,\n",
       " 4884,\n",
       " 4957,\n",
       " 4974,\n",
       " 4980,\n",
       " 5041,\n",
       " 5046,\n",
       " 5053,\n",
       " 5054,\n",
       " 5083,\n",
       " 5089,\n",
       " 5091,\n",
       " 5092,\n",
       " 5103,\n",
       " 5108,\n",
       " 5112,\n",
       " 5133,\n",
       " 5146,\n",
       " 5147,\n",
       " 5176,\n",
       " 5178,\n",
       " 5183,\n",
       " 5184,\n",
       " 5187,\n",
       " 5194,\n",
       " 5202,\n",
       " 5234,\n",
       " 5235,\n",
       " 5261,\n",
       " 5275,\n",
       " 5322,\n",
       " 5352,\n",
       " 5373,\n",
       " 5387,\n",
       " 5393,\n",
       " 5395,\n",
       " 5404,\n",
       " 5406,\n",
       " 5410,\n",
       " 5411,\n",
       " 5442,\n",
       " 5443,\n",
       " 5450,\n",
       " 5452,\n",
       " 5490,\n",
       " 5491,\n",
       " 5492,\n",
       " 5495,\n",
       " 5496,\n",
       " 5521,\n",
       " 5523,\n",
       " 5544,\n",
       " 5574,\n",
       " 5581,\n",
       " 5590,\n",
       " 5624,\n",
       " 5626,\n",
       " 5633,\n",
       " 5639,\n",
       " 5646,\n",
       " 5648,\n",
       " 5653,\n",
       " 5657,\n",
       " 5666,\n",
       " 5675,\n",
       " 5678,\n",
       " 5684,\n",
       " 5690,\n",
       " 5703,\n",
       " 5710,\n",
       " 5719,\n",
       " 5729,\n",
       " 5736,\n",
       " 5783,\n",
       " 5789,\n",
       " 5803,\n",
       " 5809,\n",
       " 5839,\n",
       " 5840,\n",
       " 5852,\n",
       " 5871,\n",
       " 5884,\n",
       " 5897,\n",
       " 5903,\n",
       " 5905,\n",
       " 5911,\n",
       " 5912,\n",
       " 5932,\n",
       " 5973,\n",
       " 5984,\n",
       " 6017,\n",
       " 6019,\n",
       " 6020,\n",
       " 6054,\n",
       " 6062,\n",
       " 6085,\n",
       " 6089,\n",
       " 6095,\n",
       " 6099,\n",
       " 6129,\n",
       " 6137,\n",
       " 6146,\n",
       " 6147,\n",
       " 6149,\n",
       " 6155,\n",
       " 6159,\n",
       " 6166,\n",
       " 6175,\n",
       " 6178,\n",
       " 6192,\n",
       " 6219,\n",
       " 6229,\n",
       " 6237,\n",
       " 6240,\n",
       " 6258,\n",
       " 6270,\n",
       " 6280,\n",
       " 6285,\n",
       " 6287,\n",
       " 6288,\n",
       " 6296,\n",
       " 6297,\n",
       " 6302,\n",
       " 6343,\n",
       " 6355,\n",
       " 6360,\n",
       " 6381,\n",
       " 6389,\n",
       " 6397,\n",
       " 6428,\n",
       " 6429,\n",
       " 6455,\n",
       " 6476,\n",
       " 6493,\n",
       " 6532,\n",
       " 6539,\n",
       " 6540,\n",
       " 6548,\n",
       " 6574,\n",
       " 6584,\n",
       " 6586,\n",
       " 6595,\n",
       " 6617,\n",
       " 6650,\n",
       " 6668,\n",
       " 6672,\n",
       " 6673,\n",
       " 6697,\n",
       " 6698,\n",
       " 6701,\n",
       " 6702,\n",
       " 6715,\n",
       " 6725,\n",
       " 6732,\n",
       " 6751,\n",
       " 6753,\n",
       " 6759,\n",
       " 6770,\n",
       " 6806,\n",
       " 6809,\n",
       " 6812,\n",
       " 6825,\n",
       " 6827,\n",
       " 6849,\n",
       " 6874,\n",
       " 6876,\n",
       " 6884,\n",
       " 6892,\n",
       " 6923,\n",
       " 6928,\n",
       " 6936,\n",
       " 6944,\n",
       " 6971,\n",
       " 6981,\n",
       " 6983,\n",
       " 6991,\n",
       " 7006,\n",
       " 7010,\n",
       " 7027,\n",
       " 7030,\n",
       " 7039,\n",
       " 7052,\n",
       " 7068,\n",
       " 7069,\n",
       " 7081,\n",
       " 7103,\n",
       " 7107,\n",
       " 7131,\n",
       " 7147,\n",
       " 7152,\n",
       " 7153,\n",
       " 7191,\n",
       " 7212,\n",
       " 7216,\n",
       " 7235,\n",
       " 7259,\n",
       " 7268,\n",
       " 7271,\n",
       " 7306,\n",
       " 7307,\n",
       " 7312,\n",
       " 7346,\n",
       " 7369,\n",
       " 7393,\n",
       " 7411,\n",
       " 7431,\n",
       " 7433,\n",
       " 7449,\n",
       " 7459,\n",
       " 7465,\n",
       " 7481,\n",
       " 7496,\n",
       " 7519,\n",
       " 7520,\n",
       " 7522,\n",
       " 7523,\n",
       " 7542,\n",
       " 7544,\n",
       " 7563,\n",
       " 7566,\n",
       " 7574,\n",
       " 7576,\n",
       " 7581,\n",
       " 7612,\n",
       " 7635,\n",
       " 7640,\n",
       " 7682,\n",
       " 7684,\n",
       " 7706,\n",
       " 7720,\n",
       " 7730,\n",
       " 7739,\n",
       " 7744,\n",
       " 7762,\n",
       " 7787,\n",
       " 7790,\n",
       " 7798,\n",
       " 7806,\n",
       " 7814,\n",
       " 7819,\n",
       " 7834,\n",
       " 7843,\n",
       " 7865,\n",
       " 7874,\n",
       " 7903,\n",
       " 7910,\n",
       " 7914,\n",
       " 7922,\n",
       " 7931,\n",
       " 7938,\n",
       " 7945,\n",
       " 7995,\n",
       " 8001,\n",
       " 8003,\n",
       " 8013,\n",
       " 8014,\n",
       " 8016,\n",
       " 8056,\n",
       " 8057,\n",
       " 8068,\n",
       " 8077,\n",
       " 8081,\n",
       " 8085,\n",
       " 8093,\n",
       " 8096,\n",
       " 8098,\n",
       " 8110,\n",
       " 8115,\n",
       " 8131,\n",
       " 8147,\n",
       " 8149,\n",
       " 8153,\n",
       " 8170,\n",
       " 8172,\n",
       " 8176,\n",
       " 8202,\n",
       " 8219,\n",
       " 8244,\n",
       " 8245,\n",
       " 8255,\n",
       " 8275,\n",
       " 8293,\n",
       " 8304,\n",
       " 8345,\n",
       " 8368,\n",
       " 8389,\n",
       " 8401,\n",
       " 8406,\n",
       " 8428,\n",
       " 8445,\n",
       " 8461,\n",
       " 8470,\n",
       " 8480,\n",
       " 8490,\n",
       " 8509,\n",
       " 8510,\n",
       " 8511,\n",
       " 8519,\n",
       " 8535,\n",
       " 8538,\n",
       " 8550,\n",
       " 8552,\n",
       " 8567,\n",
       " 8576,\n",
       " 8577,\n",
       " 8587,\n",
       " 8592,\n",
       " 8607,\n",
       " 8619,\n",
       " 8625,\n",
       " 8640,\n",
       " 8657,\n",
       " 8678,\n",
       " 8681,\n",
       " 8687,\n",
       " 8708,\n",
       " 8716,\n",
       " 8728,\n",
       " 8734,\n",
       " 8751,\n",
       " 8752,\n",
       " 8763,\n",
       " 8765,\n",
       " 8793,\n",
       " 8800,\n",
       " 8804,\n",
       " 8809,\n",
       " 8813,\n",
       " 8838,\n",
       " 8843,\n",
       " 8848,\n",
       " 8864,\n",
       " 8876,\n",
       " 8890,\n",
       " 8905,\n",
       " 8943,\n",
       " 8946,\n",
       " 8959,\n",
       " 8974,\n",
       " 8978,\n",
       " 8996,\n",
       " 9003,\n",
       " 9021,\n",
       " 9030,\n",
       " 9045,\n",
       " 9050,\n",
       " 9059,\n",
       " 9072,\n",
       " 9075,\n",
       " 9076,\n",
       " 9088,\n",
       " 9125,\n",
       " 9183,\n",
       " 9197,\n",
       " 9203,\n",
       " 9210,\n",
       " 9225,\n",
       " 9226,\n",
       " 9242,\n",
       " 9279,\n",
       " 9289,\n",
       " 9335,\n",
       " 9347,\n",
       " 9358,\n",
       " 9361,\n",
       " 9364,\n",
       " 9370,\n",
       " 9371,\n",
       " 9377,\n",
       " 9396,\n",
       " 9406,\n",
       " 9416,\n",
       " 9442,\n",
       " 9473,\n",
       " 9500,\n",
       " 9506,\n",
       " 9511,\n",
       " 9514,\n",
       " 9519,\n",
       " 9542,\n",
       " 9554,\n",
       " 9556,\n",
       " 9563,\n",
       " 9567,\n",
       " 9571,\n",
       " 9577,\n",
       " 9590,\n",
       " 9592,\n",
       " 9603,\n",
       " 9616,\n",
       " 9628,\n",
       " 9647,\n",
       " 9656,\n",
       " 9659,\n",
       " 9695,\n",
       " 9724,\n",
       " 9734,\n",
       " 9739,\n",
       " 9745,\n",
       " 9785,\n",
       " 9795,\n",
       " 9797,\n",
       " 9802,\n",
       " 9808,\n",
       " 9811,\n",
       " 9829,\n",
       " 9830,\n",
       " 9858,\n",
       " 9899,\n",
       " 9939,\n",
       " 9948,\n",
       " 9971,\n",
       " 9976,\n",
       " 9981,\n",
       " 9998,\n",
       " 10004,\n",
       " 10015,\n",
       " 10023,\n",
       " 10025,\n",
       " 10056,\n",
       " 10063,\n",
       " 10064,\n",
       " 10066,\n",
       " 10079,\n",
       " 10105,\n",
       " 10111,\n",
       " 10119,\n",
       " 10141,\n",
       " 10150,\n",
       " 10156,\n",
       " 10172,\n",
       " 10178,\n",
       " 10179,\n",
       " 10191,\n",
       " 10192,\n",
       " 10215,\n",
       " 10220,\n",
       " 10229,\n",
       " 10254,\n",
       " 10258,\n",
       " 10283,\n",
       " 10284,\n",
       " 10310,\n",
       " 10334,\n",
       " 10351,\n",
       " 10353,\n",
       " 10354,\n",
       " 10356,\n",
       " 10363,\n",
       " 10395,\n",
       " 10407,\n",
       " 10408,\n",
       " 10422,\n",
       " 10423,\n",
       " 10446,\n",
       " 10451,\n",
       " 10455,\n",
       " 10476,\n",
       " 10477,\n",
       " 10491,\n",
       " 10499,\n",
       " 10502,\n",
       " 10505,\n",
       " 10508,\n",
       " 10515,\n",
       " 10525,\n",
       " 10538,\n",
       " 10568,\n",
       " 10585,\n",
       " 10613,\n",
       " 10645,\n",
       " 10657,\n",
       " 10660,\n",
       " 10667,\n",
       " 10668,\n",
       " 10673,\n",
       " 10682,\n",
       " 10686,\n",
       " 10710,\n",
       " 10714,\n",
       " 10724,\n",
       " 10732,\n",
       " 10735,\n",
       " 10758,\n",
       " 10777,\n",
       " 10795,\n",
       " 10808,\n",
       " 10847,\n",
       " 10849,\n",
       " 10859,\n",
       " 10861,\n",
       " 10883,\n",
       " 10886,\n",
       " 10894,\n",
       " 10901,\n",
       " 10906,\n",
       " 10916,\n",
       " 10935,\n",
       " 10957,\n",
       " 10964,\n",
       " 10977,\n",
       " 10983,\n",
       " 10997,\n",
       " 10998,\n",
       " 10999,\n",
       " 11015,\n",
       " 11034,\n",
       " 11036,\n",
       " 11094,\n",
       " 11116,\n",
       " 11127,\n",
       " 11145,\n",
       " 11169,\n",
       " 11179,\n",
       " 11180,\n",
       " 11194,\n",
       " 11199,\n",
       " 11208,\n",
       " 11230,\n",
       " 11248,\n",
       " 11262,\n",
       " 11284,\n",
       " 11286,\n",
       " 11311,\n",
       " 11349,\n",
       " 11385,\n",
       " 11389,\n",
       " 11395,\n",
       " 11402,\n",
       " 11406,\n",
       " 11418,\n",
       " 11452,\n",
       " 11460,\n",
       " 11465,\n",
       " 11474,\n",
       " 11476,\n",
       " 11486,\n",
       " 11502,\n",
       " 11508,\n",
       " 11509,\n",
       " 11512,\n",
       " 11518,\n",
       " 11537,\n",
       " 11541,\n",
       " 11559,\n",
       " 11580,\n",
       " 11584,\n",
       " 11588,\n",
       " 11590,\n",
       " 11591,\n",
       " 11601,\n",
       " 11611,\n",
       " 11620,\n",
       " 11673,\n",
       " 11701,\n",
       " 11712,\n",
       " 11730,\n",
       " 11756,\n",
       " 11763,\n",
       " 11764,\n",
       " 11779,\n",
       " 11789,\n",
       " 11809,\n",
       " 11862,\n",
       " 11891,\n",
       " 11897,\n",
       " 11900,\n",
       " 11911,\n",
       " 11936,\n",
       " 11938,\n",
       " 11953,\n",
       " 11954,\n",
       " 11962,\n",
       " 11968,\n",
       " 11972,\n",
       " 11980,\n",
       " 12009,\n",
       " 12039,\n",
       " 12042,\n",
       " 12051,\n",
       " 12103,\n",
       " 12120,\n",
       " 12122,\n",
       " 12144,\n",
       " 12158,\n",
       " 12173,\n",
       " 12178,\n",
       " 12180,\n",
       " 12196,\n",
       " 12198,\n",
       " 12199,\n",
       " 12229,\n",
       " 12234,\n",
       " 12238,\n",
       " 12239,\n",
       " 12241,\n",
       " 12258,\n",
       " 12261,\n",
       " 12264,\n",
       " 12296,\n",
       " 12310,\n",
       " 12333,\n",
       " 12343,\n",
       " 12392,\n",
       " 12395,\n",
       " 12414,\n",
       " 12439,\n",
       " 12444,\n",
       " 12481,\n",
       " 12499,\n",
       " 12515,\n",
       " 12526,\n",
       " 12550,\n",
       " 12553,\n",
       " 12579,\n",
       " 12581,\n",
       " 12620,\n",
       " 12625,\n",
       " 12643,\n",
       " 12654,\n",
       " 12682,\n",
       " 12687,\n",
       " 12718,\n",
       " 12719,\n",
       " 12729,\n",
       " 12734,\n",
       " 12739,\n",
       " 12748,\n",
       " 12753,\n",
       " 12762,\n",
       " 12778,\n",
       " 12792,\n",
       " 12803,\n",
       " 12812,\n",
       " 12822,\n",
       " 12843,\n",
       " 12848,\n",
       " 12851,\n",
       " 12879,\n",
       " 12891,\n",
       " 12911,\n",
       " 12912,\n",
       " 12927,\n",
       " 12931,\n",
       " 12933,\n",
       " 12944,\n",
       " 12946,\n",
       " 12950,\n",
       " 12973,\n",
       " ...]"
      ]
     },
     "execution_count": 64,
     "metadata": {},
     "output_type": "execute_result"
    }
   ],
   "source": [
    "example_lr.fit(X, y)\n",
    "y_pred = example_lr.predict(X)\n",
    "positive_indices = [counter for counter in range(len(y_pred)) if y_pred[counter]==1]\n",
    "negative_indices = [counter for counter in range(len(y_pred)) if y_pred[counter]==0]\n",
    "positive_indices"
   ]
  },
  {
   "cell_type": "code",
   "execution_count": null,
   "metadata": {},
   "outputs": [],
   "source": []
  }
 ],
 "metadata": {
  "kernelspec": {
   "display_name": "Python 3",
   "language": "python",
   "name": "python3"
  },
  "language_info": {
   "codemirror_mode": {
    "name": "ipython",
    "version": 3
   },
   "file_extension": ".py",
   "mimetype": "text/x-python",
   "name": "python",
   "nbconvert_exporter": "python",
   "pygments_lexer": "ipython3",
   "version": "3.7.4"
  }
 },
 "nbformat": 4,
 "nbformat_minor": 4
}
